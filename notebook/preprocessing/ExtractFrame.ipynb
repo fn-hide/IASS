{
 "cells": [
  {
   "cell_type": "code",
   "execution_count": null,
   "metadata": {},
   "outputs": [],
   "source": [
    "import os\n",
    "import cv2 as cv"
   ]
  },
  {
   "cell_type": "code",
   "execution_count": 2,
   "metadata": {},
   "outputs": [],
   "source": [
    "dir_project = \"C:/Users/eats/projects/IASS\""
   ]
  },
  {
   "cell_type": "code",
   "execution_count": 3,
   "metadata": {},
   "outputs": [],
   "source": [
    "name_video = \"beta\"\n",
    "path_video = f\"asset/{name_video}.mp4\"\n",
    "path_video = os.path.join(dir_project, path_video)\n",
    "\n",
    "cap = cv.VideoCapture(path_video)\n",
    "assert cap.isOpened(), \"Error reading video file\"\n",
    "w, h, fps = (\n",
    "    int(cap.get(x)) \n",
    "    for x in (cv.CAP_PROP_FRAME_WIDTH, cv.CAP_PROP_FRAME_HEIGHT, cv.CAP_PROP_FPS)\n",
    ")\n"
   ]
  },
  {
   "cell_type": "code",
   "execution_count": 4,
   "metadata": {},
   "outputs": [
    {
     "name": "stdout",
     "output_type": "stream",
     "text": [
      "Video frame is empty or video processing has been successfully completed.\n"
     ]
    }
   ],
   "source": [
    "dir_output = os.path.join(dir_project, \"asset\", \"dataset\")\n",
    "os.makedirs(dir_output, exist_ok=True)\n",
    "\n",
    "# cv.namedWindow(\"Video\", cv.WINDOW_NORMAL)\n",
    "\n",
    "idx_img = 0\n",
    "while cap.isOpened():\n",
    "    success, im0 = cap.read()\n",
    "    if not success:\n",
    "        print(\"Video frame is empty or video processing has been successfully completed.\")\n",
    "        break\n",
    "    \n",
    "    # cv.imshow(\"Video\", im0)\n",
    "    # if cv.waitKey(1) & 0xFF == ord(\"q\"):\n",
    "    #     break\n",
    "    \n",
    "    path_output = os.path.join(dir_output, f'{name_video}_{idx_img}.jpg')\n",
    "    cv.imwrite(path_output, im0)\n",
    "    \n",
    "    idx_img += 1\n",
    "\n",
    "cap.release()   # Release the capture\n",
    "cv.destroyAllWindows()"
   ]
  },
  {
   "cell_type": "code",
   "execution_count": 5,
   "metadata": {},
   "outputs": [],
   "source": [
    "# cv.imshow(\"im0\", im0)\n",
    "# cv.waitKey(0)"
   ]
  }
 ],
 "metadata": {
  "kernelspec": {
   "display_name": ".venv",
   "language": "python",
   "name": "python3"
  },
  "language_info": {
   "codemirror_mode": {
    "name": "ipython",
    "version": 3
   },
   "file_extension": ".py",
   "mimetype": "text/x-python",
   "name": "python",
   "nbconvert_exporter": "python",
   "pygments_lexer": "ipython3",
   "version": "3.10.11"
  }
 },
 "nbformat": 4,
 "nbformat_minor": 2
}
