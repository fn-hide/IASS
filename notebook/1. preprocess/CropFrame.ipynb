{
 "cells": [
  {
   "cell_type": "markdown",
   "metadata": {},
   "source": [
    "### Setup"
   ]
  },
  {
   "cell_type": "code",
   "execution_count": 1,
   "metadata": {},
   "outputs": [],
   "source": [
    "import os\n",
    "import sys\n",
    "\n",
    "sys.path.append(os.path.abspath(os.path.join(os.getcwd(), \"..\")))"
   ]
  },
  {
   "cell_type": "code",
   "execution_count": 2,
   "metadata": {},
   "outputs": [],
   "source": [
    "import cv2 as cv\n",
    "import numpy as np\n",
    "from datetime import datetime\n",
    "\n",
    "from utils import get_coordinates, crop_and_mask_image"
   ]
  },
  {
   "cell_type": "markdown",
   "metadata": {},
   "source": [
    "### Read the Video File"
   ]
  },
  {
   "cell_type": "code",
   "execution_count": 3,
   "metadata": {},
   "outputs": [],
   "source": [
    "dir_project = \"C:/Users/eats/projects/IASS\"\n",
    "\n",
    "name_video = \"alpha\"\n",
    "path_video = f\"asset/{name_video}.mp4\"\n",
    "path_video = os.path.join(dir_project, path_video)\n",
    "\n",
    "cap = cv.VideoCapture(path_video)\n",
    "assert cap.isOpened(), \"Error reading video file\"\n",
    "w, h, fps = (\n",
    "    int(cap.get(x)) \n",
    "    for x in (cv.CAP_PROP_FRAME_WIDTH, cv.CAP_PROP_FRAME_HEIGHT, cv.CAP_PROP_FPS)\n",
    ")\n"
   ]
  },
  {
   "cell_type": "markdown",
   "metadata": {},
   "source": [
    "### Define Region Coordinates"
   ]
  },
  {
   "cell_type": "code",
   "execution_count": 15,
   "metadata": {},
   "outputs": [],
   "source": [
    "success, imx = cap.read()\n",
    "\n",
    "# # alpha.mp4\n",
    "# region_points = [(780, 225), (1136, 622)]  # original\n",
    "region_points = [(120, 30), (400, 475)]   # crop\n",
    "x_min, x_max = 705, 1456\n",
    "y_min, y_max = 132, 665\n",
    "imx_crop = imx[y_min:y_max, x_min:x_max]\n",
    "polygon = np.array([(0, 0), (388, 531), (750, 189), (304, 1)])\n",
    "\n",
    "# # delta.mp4\n",
    "# region_points = [(233, 800), (1795, 800)]  # original\n",
    "# region_points = [(0, 250), (1178, 250)]    # crop\n",
    "# x_min, x_max = 422, 1600\n",
    "# y_min, y_max = 140, 510\n",
    "# imx_crop = imx[y_min:y_max, x_min:x_max]\n",
    "# polygon = np.array([(0, imx_crop.shape[0]), (273, 0), (950, 0), (imx_crop.shape[1], imx_crop.shape[0])])\n",
    "\n",
    "# # beta.mp4\n",
    "# region_points = [(275, 250), (580, 250)]  # original\n",
    "# region_points = [(25, 130), (330, 130)]   # crop\n",
    "# x_min, x_max = 250, 600\n",
    "# y_min, y_max = 120, 290\n",
    "# imx_crop = imx[y_min:y_max, x_min:x_max]\n",
    "# polygon = np.array([(0, imx_crop.shape[0]), (130, 0), (245, 0), (imx_crop.shape[1], imx_crop.shape[0])])\n",
    "\n",
    "# region_points = [(20, 400), (1080, 400), (1080, 360), (20, 360)]  # For rectangle region counting\n",
    "# region_points = [(20, 400), (1080, 400), (1080, 360), (20, 360), (20, 400)]  # For polygon region counting"
   ]
  },
  {
   "cell_type": "markdown",
   "metadata": {},
   "source": [
    "Original Image"
   ]
  },
  {
   "cell_type": "code",
   "execution_count": 10,
   "metadata": {},
   "outputs": [
    {
     "data": {
      "text/plain": [
       "-1"
      ]
     },
     "execution_count": 10,
     "metadata": {},
     "output_type": "execute_result"
    }
   ],
   "source": [
    "success, imx = cap.read()\n",
    "\n",
    "# Buat window dan set event callback\n",
    "cv.namedWindow(\"Image\", cv.WINDOW_NORMAL)\n",
    "cv.namedWindow(\"Image\")\n",
    "cv.setMouseCallback(\"Image\", get_coordinates)\n",
    "cv.imshow(\"Image\", imx)\n",
    "cv.waitKey(0)"
   ]
  },
  {
   "cell_type": "markdown",
   "metadata": {},
   "source": [
    "Crop Image"
   ]
  },
  {
   "cell_type": "code",
   "execution_count": 16,
   "metadata": {},
   "outputs": [
    {
     "name": "stdout",
     "output_type": "stream",
     "text": [
      "(533, 751, 3)\n"
     ]
    },
    {
     "data": {
      "text/plain": [
       "-1"
      ]
     },
     "execution_count": 16,
     "metadata": {},
     "output_type": "execute_result"
    }
   ],
   "source": [
    "success, imx = cap.read()\n",
    "\n",
    "imx_crop = imx[y_min:y_max, x_min:x_max]\n",
    "imx_crop = crop_and_mask_image(imx, x_min, x_max, y_min, y_max, polygon)\n",
    "print(imx_crop.shape)\n",
    "\n",
    "cv.namedWindow(\"Image\", cv.WINDOW_NORMAL)\n",
    "cv.namedWindow(\"Image\")\n",
    "cv.setMouseCallback(\"Image\", get_coordinates)\n",
    "cv.imshow(\"Image\", imx_crop)\n",
    "cv.waitKey(0)"
   ]
  },
  {
   "cell_type": "markdown",
   "metadata": {},
   "source": [
    "### Extract Each Frame of Video to JPG"
   ]
  },
  {
   "cell_type": "code",
   "execution_count": 18,
   "metadata": {},
   "outputs": [
    {
     "name": "stdout",
     "output_type": "stream",
     "text": [
      "Video frame is empty or video processing has been successfully completed.\n"
     ]
    }
   ],
   "source": [
    "i_skip = 1\n",
    "name_datetime = str(datetime.now().date()).replace(\"-\", \"\")\n",
    "dir_output = os.path.join(dir_project, \"asset\", \"dataset\", f\"{name_datetime}-{name_video}-skip_{i_skip}\")\n",
    "os.makedirs(dir_output, exist_ok=True)\n",
    "\n",
    "cap = cv.VideoCapture(path_video)\n",
    "assert cap.isOpened(), \"Error reading video file\"\n",
    "w, h, fps = (\n",
    "    int(cap.get(x)) \n",
    "    for x in (cv.CAP_PROP_FRAME_WIDTH, cv.CAP_PROP_FRAME_HEIGHT, cv.CAP_PROP_FPS)\n",
    ")\n",
    "\n",
    "idx_img = 0\n",
    "i = i_skip\n",
    "cv.namedWindow(\"Video\", cv.WINDOW_NORMAL)\n",
    "while cap.isOpened():\n",
    "    success, im0 = cap.read()\n",
    "    if not success:\n",
    "        print(\"Video frame is empty or video processing has been successfully completed.\")\n",
    "        break\n",
    "    \n",
    "    if i == 0:\n",
    "        i = i_skip\n",
    "        continue\n",
    "    \n",
    "    # # imm = np.zeros_like(im0)\n",
    "    # # imm[y_min:y_max, x_min:x_max] = im0[y_min:y_max, x_min:x_max]\n",
    "    # imm = im0[y_min:y_max, x_min:x_max]\n",
    "    \n",
    "    # crop image\n",
    "    imm = im0[y_min:y_max, x_min:x_max]\n",
    "\n",
    "    # Create a black mask (same height & width as image, single channel)\n",
    "    mask = np.zeros(imm.shape[:2], dtype=np.uint8)\n",
    "\n",
    "    # Fill the polygon area with white (255)\n",
    "    cv.fillPoly(mask, [polygon], color=255)\n",
    "\n",
    "    # Apply the mask to keep only the polygon area\n",
    "    imm = cv.bitwise_and(imm, imm, mask=mask)\n",
    "    \n",
    "    cv.imshow(\"Video\", imm)\n",
    "    if cv.waitKey(1) & 0xFF == ord(\"q\"):\n",
    "        break\n",
    "    \n",
    "    # video_writer.write(imm)\n",
    "    \n",
    "    path_output = os.path.join(dir_output, f'{name_video}_{idx_img}.jpg')\n",
    "    cv.imwrite(path_output, imm)\n",
    "    \n",
    "    i -= 1\n",
    "    idx_img += 1\n",
    "    \n",
    "    # break\n",
    "\n",
    "cap.release()\n",
    "# video_writer.release()\n",
    "cv.destroyAllWindows()"
   ]
  },
  {
   "cell_type": "code",
   "execution_count": null,
   "metadata": {},
   "outputs": [],
   "source": [
    "cv.waitKey(0)\n",
    "cap.release()\n",
    "cv.destroyAllWindows()"
   ]
  }
 ],
 "metadata": {
  "kernelspec": {
   "display_name": ".venv",
   "language": "python",
   "name": "python3"
  },
  "language_info": {
   "codemirror_mode": {
    "name": "ipython",
    "version": 3
   },
   "file_extension": ".py",
   "mimetype": "text/x-python",
   "name": "python",
   "nbconvert_exporter": "python",
   "pygments_lexer": "ipython3",
   "version": "3.10.11"
  }
 },
 "nbformat": 4,
 "nbformat_minor": 2
}
