{
 "cells": [
  {
   "cell_type": "code",
   "execution_count": 1,
   "metadata": {},
   "outputs": [],
   "source": [
    "import os\n",
    "import cv2 as cv\n",
    "import numpy as np\n",
    "from datetime import datetime"
   ]
  },
  {
   "cell_type": "code",
   "execution_count": 2,
   "metadata": {},
   "outputs": [],
   "source": [
    "def get_coordinates(event, x, y, flags, param):\n",
    "    if event == cv.EVENT_LBUTTONDBLCLK:  # Saat mouse double-click\n",
    "        print(f\"Mouse Hovering at: ({x}, {y})\")"
   ]
  },
  {
   "cell_type": "code",
   "execution_count": 3,
   "metadata": {},
   "outputs": [],
   "source": [
    "dir_project = \"C:/Users/eats/projects/IASS\""
   ]
  },
  {
   "cell_type": "code",
   "execution_count": 36,
   "metadata": {},
   "outputs": [],
   "source": [
    "name_video = \"delta\"\n",
    "path_video = f\"asset/{name_video}.mp4\"\n",
    "path_video = os.path.join(dir_project, path_video)\n",
    "\n",
    "cap = cv.VideoCapture(path_video)\n",
    "assert cap.isOpened(), \"Error reading video file\"\n",
    "w, h, fps = (\n",
    "    int(cap.get(x)) \n",
    "    for x in (cv.CAP_PROP_FRAME_WIDTH, cv.CAP_PROP_FRAME_HEIGHT, cv.CAP_PROP_FPS)\n",
    ")\n"
   ]
  },
  {
   "cell_type": "markdown",
   "metadata": {},
   "source": [
    "### Get Coordinate and Crop Video"
   ]
  },
  {
   "cell_type": "code",
   "execution_count": 6,
   "metadata": {},
   "outputs": [],
   "source": [
    "success, imx = cap.read()\n",
    "\n",
    "# Buat window dan set event callback\n",
    "cv.namedWindow(\"Image\", cv.WINDOW_NORMAL)\n",
    "cv.namedWindow(\"Image\")\n",
    "cv.setMouseCallback(\"Image\", get_coordinates)\n",
    "\n",
    "while True:\n",
    "    cv.imshow(\"Image\", imx)\n",
    "    if cv.waitKey(1) & 0xFF == 27:  # Tekan ESC untuk keluar\n",
    "        break\n",
    "\n",
    "cv.destroyAllWindows()"
   ]
  },
  {
   "cell_type": "code",
   "execution_count": 15,
   "metadata": {},
   "outputs": [
    {
     "data": {
      "text/plain": [
       "(1080, 1920, 3)"
      ]
     },
     "execution_count": 15,
     "metadata": {},
     "output_type": "execute_result"
    }
   ],
   "source": [
    "imx.shape"
   ]
  },
  {
   "cell_type": "markdown",
   "metadata": {},
   "source": [
    "Square Mask"
   ]
  },
  {
   "cell_type": "code",
   "execution_count": 37,
   "metadata": {},
   "outputs": [],
   "source": [
    "# Line: (275, 249) -> (588, 260)\n",
    "# Crop: (240, 291) -> (608, 291) -> (608, 99) -> (240, 99)\n",
    "# (485, 507) and (693, 139)\n",
    "x_min, x_max = 422, 1600\n",
    "y_min, y_max = 140, 510"
   ]
  },
  {
   "cell_type": "code",
   "execution_count": 22,
   "metadata": {},
   "outputs": [],
   "source": [
    "imx_crop = imx[y_min:y_max, x_min:x_max]"
   ]
  },
  {
   "cell_type": "code",
   "execution_count": 23,
   "metadata": {},
   "outputs": [
    {
     "data": {
      "text/plain": [
       "-1"
      ]
     },
     "execution_count": 23,
     "metadata": {},
     "output_type": "execute_result"
    }
   ],
   "source": [
    "cv.imshow(\"imx_crop\", imx_crop)\n",
    "cv.waitKey(0)"
   ]
  },
  {
   "cell_type": "markdown",
   "metadata": {},
   "source": [
    "Get coordinates from cropped image"
   ]
  },
  {
   "cell_type": "code",
   "execution_count": 29,
   "metadata": {},
   "outputs": [
    {
     "name": "stdout",
     "output_type": "stream",
     "text": [
      "Mouse Hovering at: (273, 0)\n",
      "Mouse Hovering at: (950, 3)\n"
     ]
    }
   ],
   "source": [
    "# Buat window dan set event callback\n",
    "cv.namedWindow(\"Image\", cv.WINDOW_NORMAL)\n",
    "cv.namedWindow(\"Image\")\n",
    "cv.setMouseCallback(\"Image\", get_coordinates)\n",
    "\n",
    "while True:\n",
    "    cv.imshow(\"Image\", imx_crop)\n",
    "    if cv.waitKey(1) & 0xFF == 27:  # Tekan ESC untuk keluar\n",
    "        break\n",
    "\n",
    "cv.destroyAllWindows()"
   ]
  },
  {
   "cell_type": "code",
   "execution_count": 24,
   "metadata": {},
   "outputs": [
    {
     "data": {
      "text/plain": [
       "(370, 1920, 3)"
      ]
     },
     "execution_count": 24,
     "metadata": {},
     "output_type": "execute_result"
    }
   ],
   "source": [
    "imx_crop.shape"
   ]
  },
  {
   "cell_type": "markdown",
   "metadata": {},
   "source": [
    "Polygon Mask"
   ]
  },
  {
   "cell_type": "code",
   "execution_count": null,
   "metadata": {},
   "outputs": [],
   "source": [
    "# polygon = np.array([(110, 1078), (801, 0), (0, 0), (0, 1078), (110, 1078)])"
   ]
  },
  {
   "cell_type": "code",
   "execution_count": null,
   "metadata": {},
   "outputs": [
    {
     "data": {
      "text/plain": [
       "-1"
      ]
     },
     "execution_count": 35,
     "metadata": {},
     "output_type": "execute_result"
    }
   ],
   "source": [
    "# # Create a mask the same size as the image, initially all white (or copy original image)\n",
    "# masked_img = imx.copy()\n",
    "\n",
    "# # Draw filled black polygon on the image directly (in-place)\n",
    "# cv.fillPoly(masked_img, [polygon], color=(0, 0, 0))  # Black color for mask\n",
    "\n",
    "# cv.namedWindow(\"masked_img\", cv.WINDOW_NORMAL)\n",
    "# cv.imshow(\"masked_img\", masked_img)\n",
    "# cv.waitKey(0)"
   ]
  },
  {
   "cell_type": "markdown",
   "metadata": {},
   "source": [
    "Polygon Region"
   ]
  },
  {
   "cell_type": "code",
   "execution_count": 30,
   "metadata": {},
   "outputs": [
    {
     "data": {
      "text/plain": [
       "(370, 1178, 3)"
      ]
     },
     "execution_count": 30,
     "metadata": {},
     "output_type": "execute_result"
    }
   ],
   "source": [
    "imx_crop.shape"
   ]
  },
  {
   "cell_type": "code",
   "execution_count": 38,
   "metadata": {},
   "outputs": [],
   "source": [
    "polygon = np.array([(0, imx_crop.shape[0]), (273, 0), (950, 0), (imx_crop.shape[1], imx_crop.shape[0])])"
   ]
  },
  {
   "cell_type": "code",
   "execution_count": 32,
   "metadata": {},
   "outputs": [
    {
     "data": {
      "text/plain": [
       "-1"
      ]
     },
     "execution_count": 32,
     "metadata": {},
     "output_type": "execute_result"
    }
   ],
   "source": [
    "# Create a black mask (same height & width as image, single channel)\n",
    "mask = np.zeros(imx_crop.shape[:2], dtype=np.uint8)\n",
    "\n",
    "# Fill the polygon area with white (255)\n",
    "cv.fillPoly(mask, [polygon], color=255)\n",
    "\n",
    "# Create a mask the same size as the image, initially all white (or copy original image)\n",
    "masked_img = imx_crop.copy()\n",
    "\n",
    "# Apply the mask to keep only the polygon area\n",
    "masked_img = cv.bitwise_and(masked_img, masked_img, mask=mask)\n",
    "\n",
    "# # Draw filled black polygon on the image directly (in-place)\n",
    "# cv.fillPoly(masked_img, [polygon], color=(0, 0, 0))  # Black color for mask\n",
    "\n",
    "cv.namedWindow(\"masked_img\", cv.WINDOW_NORMAL)\n",
    "cv.imshow(\"masked_img\", masked_img)\n",
    "cv.waitKey(0)"
   ]
  },
  {
   "cell_type": "code",
   "execution_count": 28,
   "metadata": {},
   "outputs": [
    {
     "data": {
      "text/plain": [
       "-1"
      ]
     },
     "execution_count": 28,
     "metadata": {},
     "output_type": "execute_result"
    }
   ],
   "source": [
    "cv.waitKey(0)"
   ]
  },
  {
   "cell_type": "markdown",
   "metadata": {},
   "source": [
    "### View Cropped Video"
   ]
  },
  {
   "cell_type": "code",
   "execution_count": null,
   "metadata": {},
   "outputs": [],
   "source": [
    "# # Video writer\n",
    "# video_writer = cv.VideoWriter(f\"{name_video}.avi\", cv.VideoWriter_fourcc(*\"mp4v\"), fps, (w, h))"
   ]
  },
  {
   "cell_type": "code",
   "execution_count": 39,
   "metadata": {},
   "outputs": [
    {
     "name": "stdout",
     "output_type": "stream",
     "text": [
      "Video frame is empty or video processing has been successfully completed.\n"
     ]
    }
   ],
   "source": [
    "name_datetime = str(datetime.now().date()).replace(\"-\", \"\")\n",
    "dir_output = os.path.join(dir_project, \"asset\", \"dataset\", name_datetime)\n",
    "os.makedirs(dir_output, exist_ok=True)\n",
    "\n",
    "# cv.namedWindow(\"Video\", cv.WINDOW_NORMAL)\n",
    "\n",
    "idx_img = 0\n",
    "while cap.isOpened():\n",
    "    success, im0 = cap.read()\n",
    "    if not success:\n",
    "        print(\"Video frame is empty or video processing has been successfully completed.\")\n",
    "        break\n",
    "    \n",
    "    # # imm = np.zeros_like(im0)\n",
    "    # # imm[y_min:y_max, x_min:x_max] = im0[y_min:y_max, x_min:x_max]\n",
    "    # imm = im0[y_min:y_max, x_min:x_max]\n",
    "    \n",
    "    # crop image\n",
    "    imm = im0[y_min:y_max, x_min:x_max]\n",
    "\n",
    "    # Create a black mask (same height & width as image, single channel)\n",
    "    mask = np.zeros(imm.shape[:2], dtype=np.uint8)\n",
    "\n",
    "    # Fill the polygon area with white (255)\n",
    "    cv.fillPoly(mask, [polygon], color=255)\n",
    "\n",
    "    # Apply the mask to keep only the polygon area\n",
    "    imm = cv.bitwise_and(imm, imm, mask=mask)\n",
    "    \n",
    "    cv.imshow(\"Video\", imm)\n",
    "    if cv.waitKey(1) & 0xFF == ord(\"q\"):\n",
    "        break\n",
    "    \n",
    "    # video_writer.write(imm)\n",
    "    \n",
    "    path_output = os.path.join(dir_output, f'{name_video}_{idx_img}.jpg')\n",
    "    cv.imwrite(path_output, imm)\n",
    "    \n",
    "    idx_img += 1\n",
    "    \n",
    "    # break\n",
    "\n",
    "cap.release()           # Release the capture\n",
    "# video_writer.release()  # Release the video writer\n",
    "cv.destroyAllWindows()  # Destroy all windows"
   ]
  },
  {
   "cell_type": "code",
   "execution_count": null,
   "metadata": {},
   "outputs": [
    {
     "ename": "error",
     "evalue": "OpenCV(4.11.0) D:\\a\\opencv-python\\opencv-python\\opencv\\modules\\highgui\\src\\window.cpp:973: error: (-215:Assertion failed) size.width>0 && size.height>0 in function 'cv::imshow'\n",
     "output_type": "error",
     "traceback": [
      "\u001b[1;31m---------------------------------------------------------------------------\u001b[0m",
      "\u001b[1;31merror\u001b[0m                                     Traceback (most recent call last)",
      "Cell \u001b[1;32mIn[34], line 1\u001b[0m\n\u001b[1;32m----> 1\u001b[0m \u001b[43mcv\u001b[49m\u001b[38;5;241;43m.\u001b[39;49m\u001b[43mimshow\u001b[49m\u001b[43m(\u001b[49m\u001b[38;5;124;43m\"\u001b[39;49m\u001b[38;5;124;43mim0\u001b[39;49m\u001b[38;5;124;43m\"\u001b[39;49m\u001b[43m,\u001b[49m\u001b[43m \u001b[49m\u001b[43mim0\u001b[49m\u001b[43m)\u001b[49m\n\u001b[0;32m      2\u001b[0m cv\u001b[38;5;241m.\u001b[39mwaitKey(\u001b[38;5;241m0\u001b[39m)\n",
      "\u001b[1;31merror\u001b[0m: OpenCV(4.11.0) D:\\a\\opencv-python\\opencv-python\\opencv\\modules\\highgui\\src\\window.cpp:973: error: (-215:Assertion failed) size.width>0 && size.height>0 in function 'cv::imshow'\n"
     ]
    }
   ],
   "source": [
    "# cv.imshow(\"im0\", im0)\n",
    "# cv.waitKey(0)"
   ]
  }
 ],
 "metadata": {
  "kernelspec": {
   "display_name": ".venv",
   "language": "python",
   "name": "python3"
  },
  "language_info": {
   "codemirror_mode": {
    "name": "ipython",
    "version": 3
   },
   "file_extension": ".py",
   "mimetype": "text/x-python",
   "name": "python",
   "nbconvert_exporter": "python",
   "pygments_lexer": "ipython3",
   "version": "3.10.11"
  }
 },
 "nbformat": 4,
 "nbformat_minor": 2
}
