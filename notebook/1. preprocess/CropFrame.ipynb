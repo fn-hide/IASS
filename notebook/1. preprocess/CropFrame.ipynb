{
 "cells": [
  {
   "cell_type": "markdown",
   "metadata": {},
   "source": [
    "### Setup"
   ]
  },
  {
   "cell_type": "code",
   "execution_count": 191,
   "metadata": {},
   "outputs": [],
   "source": [
    "import os\n",
    "import sys\n",
    "\n",
    "sys.path.append(os.path.abspath(os.path.join(os.getcwd(), \"..\")))"
   ]
  },
  {
   "cell_type": "code",
   "execution_count": 192,
   "metadata": {},
   "outputs": [],
   "source": [
    "import cv2 as cv\n",
    "import numpy as np\n",
    "from datetime import datetime\n",
    "\n",
    "from utils import get_coordinates, crop_and_mask_image"
   ]
  },
  {
   "cell_type": "markdown",
   "metadata": {},
   "source": [
    "### Read the Video File"
   ]
  },
  {
   "cell_type": "code",
   "execution_count": 193,
   "metadata": {},
   "outputs": [],
   "source": [
    "dir_project = \"C:/Users/eats/projects/IASS\"\n",
    "\n",
    "name_video = \"jpo_tunjungan_02\"\n",
    "side = \"right\"\n",
    "path_video = f\"asset/{name_video}.mp4\"\n",
    "path_video = os.path.join(dir_project, path_video)\n",
    "i_skip = 1\n",
    "name_datetime = str(datetime.now().date()).replace(\"-\", \"\")\n",
    "name_dataset = f\"{name_datetime}-{name_video}_{side}-skip_{i_skip}\"\n",
    "\n",
    "dir_output = os.path.join(dir_project, \"asset\", \"dataset\", name_dataset)\n",
    "os.makedirs(dir_output, exist_ok=True)\n",
    "\n",
    "# get one image sample\n",
    "cap = cv.VideoCapture(path_video)\n",
    "assert cap.isOpened(), \"Error reading video file\"\n",
    "w, h, fps = (\n",
    "    int(cap.get(x)) \n",
    "    for x in (cv.CAP_PROP_FRAME_WIDTH, cv.CAP_PROP_FRAME_HEIGHT, cv.CAP_PROP_FPS)\n",
    ")\n",
    "success, imx = cap.read()\n",
    "\n",
    "# re-read\n",
    "cap = cv.VideoCapture(path_video)\n",
    "assert cap.isOpened(), \"Error reading video file\"\n",
    "w, h, fps = (\n",
    "    int(cap.get(x)) \n",
    "    for x in (cv.CAP_PROP_FRAME_WIDTH, cv.CAP_PROP_FRAME_HEIGHT, cv.CAP_PROP_FPS)\n",
    ")"
   ]
  },
  {
   "cell_type": "markdown",
   "metadata": {},
   "source": [
    "### Define Region Coordinates"
   ]
  },
  {
   "cell_type": "code",
   "execution_count": 194,
   "metadata": {},
   "outputs": [],
   "source": [
    "def adjust_xy(polygon: np.ndarray, x_min: int, y_min: int) -> np.ndarray:\n",
    "    return np.array([(max(0, x - x_min), max(0, y - y_min)) for (x, y) in polygon])\n",
    "\n",
    "\n",
    "def adjust_site_region(\n",
    "    polygon: list | np.ndarray, \n",
    "    line_in: list | np.ndarray | None = None, \n",
    "    line_out: list | np.ndarray | None = None,\n",
    ") -> tuple[\n",
    "    tuple[int, int, int, int], \n",
    "    np.ndarray, \n",
    "    np.ndarray | None, \n",
    "    np.ndarray | None,\n",
    "]:\n",
    "    # type validity check\n",
    "    if isinstance(polygon, list):\n",
    "        polygon = np.array(polygon)\n",
    "    if isinstance(line_in, list):\n",
    "        line_in = np.array(line_in)\n",
    "    if isinstance(line_out, list):\n",
    "        line_out = np.array(line_out)\n",
    "\n",
    "    # shape validity check\n",
    "    if polygon.shape != (4, 2):\n",
    "        raise ValueError(f\"{polygon.shape} is invalid shape for `polygon`\")\n",
    "    \n",
    "    # get min and max pixel value from polygon\n",
    "    x_min, y_min = np.min(polygon, axis=0).tolist()\n",
    "    x_max, y_max = np.max(polygon, axis=0).tolist()\n",
    "    # adjust original polygon and line towards crop image\n",
    "    polygon = adjust_xy(polygon=polygon, x_min=x_min, y_min=y_min)\n",
    "    if not line_in is None:\n",
    "        if line_in.shape != (2, 2):\n",
    "            raise ValueError(f\"{line_in.shape} is invalid shape for `line_in`\")\n",
    "        line_in = adjust_xy(line_in, x_min=x_min, y_min=y_min)\n",
    "    if not line_out is None:\n",
    "        if line_out.shape != (2, 2):\n",
    "            raise ValueError(f\"{line_out.shape} is invalid shape for `line_out`\")\n",
    "        line_out = adjust_xy(line_out, x_min=x_min, y_min=y_min)\n",
    "    return (x_min, y_min, x_max, y_max), polygon, line_in, line_out\n",
    "\n"
   ]
  },
  {
   "cell_type": "code",
   "execution_count": null,
   "metadata": {},
   "outputs": [],
   "source": [
    "# # # # jpo_swisbel_02_right.mp4\n",
    "# line_in = None\n",
    "# line_out = [[30, 733], [1868, 725]]\n",
    "# polygon = [[165, 1079], [791, 166], [1178, 166], [1868, 1079]]\n",
    "# (x_min, y_min, x_max, y_max), polygon, line_in, line_out = adjust_site_region(polygon=polygon, line_in=line_in, line_out=line_out)\n",
    "\n",
    "# # # jpo_tunjugnan_01_right.mp4\n",
    "line_in = None\n",
    "line_out = [[42, 989], [1873, 996]]\n",
    "polygon = [[516, 1079], [876, 726], [1453, 774], [1648, 1079]]\n",
    "(x_min, y_min, x_max, y_max), polygon, line_in, line_out = adjust_site_region(polygon=polygon, line_in=line_in, line_out=line_out)"
   ]
  },
  {
   "cell_type": "code",
   "execution_count": 196,
   "metadata": {},
   "outputs": [
    {
     "data": {
      "text/plain": [
       "((516, 726, 1648, 1079),\n",
       " array([[   0,  353],\n",
       "        [ 360,    0],\n",
       "        [ 937,   48],\n",
       "        [1132,  353]]),\n",
       " None,\n",
       " array([[   0,  263],\n",
       "        [1357,  270]]))"
      ]
     },
     "execution_count": 196,
     "metadata": {},
     "output_type": "execute_result"
    }
   ],
   "source": [
    "(x_min, y_min, x_max, y_max), polygon, line_in, line_out"
   ]
  },
  {
   "cell_type": "markdown",
   "metadata": {},
   "source": [
    "Original Image"
   ]
  },
  {
   "cell_type": "code",
   "execution_count": 197,
   "metadata": {},
   "outputs": [],
   "source": [
    "# # Buat window dan set event callback\n",
    "# cv.namedWindow(\"Image\", cv.WINDOW_NORMAL)\n",
    "# cv.namedWindow(\"Image\")\n",
    "# cv.setMouseCallback(\"Image\", get_coordinates)\n",
    "# cv.imshow(\"Image\", imx)\n",
    "# cv.waitKey(0)"
   ]
  },
  {
   "cell_type": "markdown",
   "metadata": {},
   "source": [
    "Crop Image"
   ]
  },
  {
   "cell_type": "code",
   "execution_count": 198,
   "metadata": {},
   "outputs": [],
   "source": [
    "# imx_crop = imx[y_min:y_max, x_min:x_max]\n",
    "# imx_crop = crop_and_mask_image(\n",
    "#     img=imx, \n",
    "#     x_min=x_min, \n",
    "#     x_max=x_max, \n",
    "#     y_min=y_min, \n",
    "#     y_max=y_max, \n",
    "#     polygon=polygon,\n",
    "# )\n",
    "# cv.drawContours(imx_crop, [line_out], -1, (0, 0, 255), thickness=2)\n",
    "# print(imx_crop.shape)\n",
    "\n",
    "# cv.namedWindow(\"Image\", cv.WINDOW_NORMAL)\n",
    "# cv.namedWindow(\"Image\")\n",
    "# cv.setMouseCallback(\"Image\", get_coordinates)\n",
    "# cv.imshow(\"Image\", imx_crop)\n",
    "# cv.waitKey(0)"
   ]
  },
  {
   "cell_type": "markdown",
   "metadata": {},
   "source": [
    "### Extract Each Frame of Video to JPG"
   ]
  },
  {
   "cell_type": "code",
   "execution_count": 199,
   "metadata": {},
   "outputs": [],
   "source": [
    "# get one image sample\n",
    "cap = cv.VideoCapture(path_video)\n",
    "assert cap.isOpened(), \"Error reading video file\"\n",
    "w, h, fps = (\n",
    "    int(cap.get(x)) \n",
    "    for x in (cv.CAP_PROP_FRAME_WIDTH, cv.CAP_PROP_FRAME_HEIGHT, cv.CAP_PROP_FPS)\n",
    ")\n",
    "success, imx = cap.read()\n",
    "\n",
    "# re-read\n",
    "cap = cv.VideoCapture(path_video)\n",
    "assert cap.isOpened(), \"Error reading video file\"\n",
    "w, h, fps = (\n",
    "    int(cap.get(x)) \n",
    "    for x in (cv.CAP_PROP_FRAME_WIDTH, cv.CAP_PROP_FRAME_HEIGHT, cv.CAP_PROP_FPS)\n",
    ")"
   ]
  },
  {
   "cell_type": "code",
   "execution_count": 200,
   "metadata": {},
   "outputs": [
    {
     "name": "stdout",
     "output_type": "stream",
     "text": [
      "Video frame is empty or video processing has been successfully completed.\n"
     ]
    }
   ],
   "source": [
    "idx_img = 0\n",
    "i = i_skip\n",
    "cv.namedWindow(\"Video\", cv.WINDOW_NORMAL)\n",
    "while cap.isOpened():\n",
    "    success, im0 = cap.read()\n",
    "    if not success:\n",
    "        print(\"Video frame is empty or video processing has been successfully completed.\")\n",
    "        break\n",
    "    \n",
    "    if i == 0:\n",
    "        i = i_skip\n",
    "        continue\n",
    "    \n",
    "    # # imm = np.zeros_like(im0)\n",
    "    # # imm[y_min:y_max, x_min:x_max] = im0[y_min:y_max, x_min:x_max]\n",
    "    # imm = im0[y_min:y_max, x_min:x_max]\n",
    "    \n",
    "    # crop image\n",
    "    imm = im0[y_min:y_max, x_min:x_max]\n",
    "\n",
    "    # Create a black mask (same height & width as image, single channel)\n",
    "    mask = np.zeros(imm.shape[:2], dtype=np.uint8)\n",
    "\n",
    "    # Fill the polygon area with white (255)\n",
    "    cv.fillPoly(mask, [polygon], color=255)\n",
    "\n",
    "    # Apply the mask to keep only the polygon area\n",
    "    imm = cv.bitwise_and(imm, imm, mask=mask)\n",
    "    \n",
    "    cv.imshow(\"Video\", imm)\n",
    "    if cv.waitKey(1) & 0xFF == ord(\"q\"):\n",
    "        break\n",
    "    \n",
    "    # video_writer.write(imm)\n",
    "    \n",
    "    path_output = os.path.join(dir_output, f'{name_video}_{idx_img}.jpg')\n",
    "    cv.imwrite(path_output, imm)\n",
    "    \n",
    "    i -= 1\n",
    "    idx_img += 1\n",
    "    \n",
    "    # break\n",
    "\n",
    "cap.release()\n",
    "# video_writer.release()\n",
    "cv.destroyAllWindows()"
   ]
  },
  {
   "cell_type": "code",
   "execution_count": 201,
   "metadata": {},
   "outputs": [],
   "source": [
    "# os.path.join(dir_output, f'{name_video}_{idx_img}.jpg').replace(\"/\", \"\\\\\")"
   ]
  },
  {
   "cell_type": "code",
   "execution_count": 202,
   "metadata": {},
   "outputs": [],
   "source": [
    "# cv.waitKey(0)\n",
    "# cap.release()\n",
    "# cv.destroyAllWindows()"
   ]
  }
 ],
 "metadata": {
  "kernelspec": {
   "display_name": ".venv",
   "language": "python",
   "name": "python3"
  },
  "language_info": {
   "codemirror_mode": {
    "name": "ipython",
    "version": 3
   },
   "file_extension": ".py",
   "mimetype": "text/x-python",
   "name": "python",
   "nbconvert_exporter": "python",
   "pygments_lexer": "ipython3",
   "version": "3.10.11"
  }
 },
 "nbformat": 4,
 "nbformat_minor": 2
}
