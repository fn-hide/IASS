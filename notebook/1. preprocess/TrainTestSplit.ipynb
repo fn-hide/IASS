{
 "cells": [
  {
   "cell_type": "markdown",
   "id": "1a33d70a",
   "metadata": {},
   "source": [
    "# Train Test Split\n",
    "Split train dataset into train, val, and test. Export a dataset from CVAT can't split automatically from tasks. So, we need to split manually if we don't specify the subsets. This notebook do that."
   ]
  },
  {
   "cell_type": "code",
   "execution_count": 68,
   "id": "62b88a95",
   "metadata": {},
   "outputs": [],
   "source": [
    "import os\n",
    "import io\n",
    "import yaml\n",
    "import random\n",
    "import shutil\n",
    "import zipfile\n",
    "import matplotlib.pyplot as plt\n",
    "import pandas as pd\n",
    "from tqdm import tqdm\n",
    "from glob import glob\n",
    "from collections import Counter"
   ]
  },
  {
   "cell_type": "markdown",
   "id": "bade6a33",
   "metadata": {},
   "source": [
    "Specify train, val, and test composition"
   ]
  },
  {
   "cell_type": "code",
   "execution_count": 17,
   "id": "ec198816",
   "metadata": {},
   "outputs": [],
   "source": [
    "n_train = 70\n",
    "n_val = 20\n",
    "n_test = 10\n",
    "\n",
    "if sum([n_train, n_val, n_test]) != 100:\n",
    "    raise ValueError(\"Total composition must be 100!\")"
   ]
  },
  {
   "cell_type": "code",
   "execution_count": 20,
   "id": "09f47ab0",
   "metadata": {},
   "outputs": [
    {
     "name": "stderr",
     "output_type": "stream",
     "text": [
      "Initialize dirs: 100%|██████████| 8/8 [00:00<00:00, 2622.05it/s]\n",
      "Initialize dirs: 100%|██████████| 8/8 [00:00<00:00, 2622.05it/s]\n",
      "Extract zips: 100%|██████████| 3/3 [00:07<00:00,  2.40s/it]\n",
      "Merge train.txt: 100%|██████████| 3/3 [00:00<00:00, 88.53it/s]\n"
     ]
    }
   ],
   "source": [
    "dir_dataset = \"C:/Users/eats/projects/IASS/asset/annotated/dataset-v0.3\"\n",
    "src_name = \"data-original\"\n",
    "dst_name = \"data\"\n",
    "dir_source = f\"{dir_dataset}/{src_name}\"\n",
    "dir_output = f\"{dir_dataset}/{dst_name}\"\n",
    "\n",
    "list_dir = [\n",
    "    dir_source,\n",
    "    dir_output,\n",
    "    f\"{dir_output}/images/train\",\n",
    "    f\"{dir_output}/images/val\",\n",
    "    f\"{dir_output}/images/test\",\n",
    "    f\"{dir_output}/labels/train\",\n",
    "    f\"{dir_output}/labels/val\",\n",
    "    f\"{dir_output}/labels/test\",\n",
    "]\n",
    "for dir in tqdm(list_dir, desc=\"Initialize dirs\"):\n",
    "    os.makedirs(dir, exist_ok=True)\n",
    "\n",
    "list_zip = glob(f\"{dir_dataset}/*.zip\")\n",
    "for i, path_zip in enumerate(tqdm(list_zip, desc=\"Extract zips\")):\n",
    "    # extract zip to zip directory\n",
    "    with zipfile.ZipFile(path_zip, 'r') as zip_ref:\n",
    "        zip_ref.extractall(dir_source)\n",
    "    \n",
    "    os.rename(f\"{dir_source}/train.txt\", f\"{dir_source}/train_{i}.txt\")\n",
    "else:\n",
    "    with open(f\"{dir_source}/data.yaml\", \"r\") as file:\n",
    "        data_yaml = yaml.safe_load(file)\n",
    "\n",
    "list_txt = glob(f\"{dir_source}/*_*.txt\")\n",
    "all_paths_train = []\n",
    "for path_txt in tqdm(list_txt, desc=\"Merge train.txt\"):\n",
    "    with open(path_txt, \"r\") as file:\n",
    "        paths_train = file.read()\n",
    "        paths_train = [item for item in paths_train.split(\"\\n\") if item]\n",
    "        all_paths_train.extend(paths_train)\n",
    "    os.remove(path_txt)\n",
    "else:\n",
    "    with open(f\"{dir_source}/train.txt\", \"w\") as file:\n",
    "        file.write(\"\\n\".join(all_paths_train))\n"
   ]
  },
  {
   "cell_type": "code",
   "execution_count": 21,
   "id": "b3ed80f4",
   "metadata": {},
   "outputs": [
    {
     "data": {
      "text/plain": [
       "{'names': {0: 'bicycle',\n",
       "  1: 'motorbike',\n",
       "  2: 'car',\n",
       "  3: 'truck',\n",
       "  4: 'bus',\n",
       "  5: 'person'},\n",
       " 'path': '.',\n",
       " 'train': 'train.txt'}"
      ]
     },
     "execution_count": 21,
     "metadata": {},
     "output_type": "execute_result"
    }
   ],
   "source": [
    "data_yaml"
   ]
  },
  {
   "cell_type": "code",
   "execution_count": 24,
   "id": "a1d71173",
   "metadata": {},
   "outputs": [
    {
     "data": {
      "text/plain": [
       "'data/images/train/epsilon_0.jpg'"
      ]
     },
     "execution_count": 24,
     "metadata": {},
     "output_type": "execute_result"
    }
   ],
   "source": [
    "all_paths_train[0]"
   ]
  },
  {
   "cell_type": "markdown",
   "id": "4ff9c56a",
   "metadata": {},
   "source": [
    "Function to split dataset into train, val, and test"
   ]
  },
  {
   "cell_type": "code",
   "execution_count": 23,
   "id": "1c7aa6a2",
   "metadata": {},
   "outputs": [],
   "source": [
    "def split_dataset(data, train_ratio=0.7, val_ratio=0.2, test_ratio=0.1, seed=None):\n",
    "    if not abs(train_ratio + val_ratio + test_ratio - 1.0) < 1e-6:\n",
    "        raise ValueError(\"Ratios must sum to 1.0\")\n",
    "    \n",
    "    if seed is not None:\n",
    "        random.seed(seed)\n",
    "    \n",
    "    data = data.copy()\n",
    "    random.shuffle(data)\n",
    "\n",
    "    total = len(data)\n",
    "    train_end = int(train_ratio * total)\n",
    "    val_end = train_end + int(val_ratio * total)\n",
    "\n",
    "    train = data[:train_end]\n",
    "    val = data[train_end:val_end]\n",
    "    test = data[val_end:]\n",
    "\n",
    "    return train, val, test\n"
   ]
  },
  {
   "cell_type": "code",
   "execution_count": 25,
   "id": "924d3352",
   "metadata": {},
   "outputs": [
    {
     "data": {
      "text/plain": [
       "(3884, 1110, 556)"
      ]
     },
     "execution_count": 25,
     "metadata": {},
     "output_type": "execute_result"
    }
   ],
   "source": [
    "split_train, split_val, split_test = split_dataset(all_paths_train)\n",
    "\n",
    "len(split_train), len(split_val), len(split_test)"
   ]
  },
  {
   "cell_type": "code",
   "execution_count": 26,
   "id": "cd525a73",
   "metadata": {},
   "outputs": [
    {
     "data": {
      "text/plain": [
       "('data/images/train/epsilon_977.jpg',\n",
       " 'data/images/train/delta_1272.jpg',\n",
       " 'data/images/train/alpha_514.jpg')"
      ]
     },
     "execution_count": 26,
     "metadata": {},
     "output_type": "execute_result"
    }
   ],
   "source": [
    "split_train[0], split_val[0], split_test[0]"
   ]
  },
  {
   "cell_type": "code",
   "execution_count": 27,
   "id": "8e9ca504",
   "metadata": {},
   "outputs": [
    {
     "name": "stderr",
     "output_type": "stream",
     "text": [
      "Split Images [train]: 100%|██████████| 3884/3884 [00:09<00:00, 389.85it/s]\n",
      "Split Images [val]: 100%|██████████| 1110/1110 [00:02<00:00, 440.58it/s]\n",
      "Split Images [test]: 100%|██████████| 556/556 [00:01<00:00, 415.41it/s]\n"
     ]
    }
   ],
   "source": [
    "dataset = {\n",
    "    \"train\": split_train,\n",
    "    \"val\": split_val,\n",
    "    \"test\": split_test,\n",
    "}\n",
    "\n",
    "# copy the split data to output directory\n",
    "for name, list_path in dataset.items():\n",
    "    for path in tqdm(list_path, desc=f\"Split Images [{name}]\"):\n",
    "        # rename \"data\" (default from yaml) directory to \"src_name\" directory\n",
    "        path = path.replace(f\"data/\", f\"{src_name}/\")\n",
    "        \n",
    "        # create source and destination of images path\n",
    "        path_src_img = f\"{dir_dataset}/{path}\"\n",
    "        path_dst_img = path_src_img.replace(f\"/{src_name}/\", f\"/{dst_name}/\").replace(\"/train/\", f\"/{name}/\")\n",
    "        \n",
    "        # crete source and destination of labels path\n",
    "        path_src_label = path_src_img.replace(\"/images/\", \"/labels/\").replace(\".jpg\", \".txt\")\n",
    "        path_dst_label = path_dst_img.replace(\"/images/\", \"/labels/\").replace(\".jpg\", \".txt\")\n",
    "        \n",
    "        # copy files\n",
    "        shutil.copyfile(path_src_img, path_dst_img)\n",
    "        if os.path.exists(path_src_label):\n",
    "            shutil.copyfile(path_src_label, path_dst_label)\n",
    "\n",
    "# create txt file related to the split data\n",
    "name = \"train\"\n",
    "with open(f\"{dir_output}/{name}.txt\", \"w\") as file:\n",
    "    file.write(\"\\n\".join([item.replace(\"train\", name) for item in split_train]))\n",
    "\n",
    "name = \"val\"\n",
    "with open(f\"{dir_output}/{name}.txt\", \"w\") as file:\n",
    "    file.write(\"\\n\".join([item.replace(\"train\", name) for item in split_val]))\n",
    "\n",
    "name = \"test\"\n",
    "with open(f\"{dir_output}/{name}.txt\", \"w\") as file:\n",
    "    file.write(\"\\n\".join([item.replace(\"train\", name) for item in split_test]))\n",
    "\n",
    "# create yaml file related to the split date\n",
    "data_yaml[\"path\"] = \"data\"\n",
    "data_yaml[\"val\"] = \"val.txt\"\n",
    "data_yaml[\"test\"] = \"test.txt\"\n",
    "with io.open(f\"{dir_output}/data.yaml\", 'w', encoding='utf8') as file:\n",
    "    yaml.dump(data_yaml, file, default_flow_style=False, allow_unicode=True)"
   ]
  },
  {
   "cell_type": "code",
   "execution_count": 72,
   "id": "e54c6133",
   "metadata": {},
   "outputs": [
    {
     "data": {
      "text/plain": [
       "'C:/Users/eats/projects/IASS/asset/annotated/dataset-v0.3/data'"
      ]
     },
     "execution_count": 72,
     "metadata": {},
     "output_type": "execute_result"
    }
   ],
   "source": [
    "dir_output"
   ]
  },
  {
   "cell_type": "code",
   "execution_count": 80,
   "id": "6aa207ab",
   "metadata": {},
   "outputs": [
    {
     "data": {
      "text/plain": [
       "'C:\\\\Users\\\\eats\\\\projects\\\\IASS\\\\asset\\\\annotated\\\\dataset-v0.3\\\\data.zip'"
      ]
     },
     "execution_count": 80,
     "metadata": {},
     "output_type": "execute_result"
    }
   ],
   "source": [
    "shutil.make_archive(dir_output, \"zip\", dir_output)"
   ]
  },
  {
   "cell_type": "markdown",
   "id": "64d72dca",
   "metadata": {},
   "source": [
    "### View Split-Dataset Distribution\n",
    "If the split-dataset is not balance by default, then balance it!"
   ]
  },
  {
   "cell_type": "code",
   "execution_count": 69,
   "id": "6c89364c",
   "metadata": {},
   "outputs": [
    {
     "data": {
      "image/png": "[encoded data removed]",
      "text/plain": [
       "<Figure size 640x480 with 1 Axes>"
      ]
     },
     "metadata": {},
     "output_type": "display_data"
    }
   ],
   "source": [
    "data = Counter([os.path.splitext(os.path.basename(item))[0].split(\"_\")[0] for item in glob(f\"{dir_output}/images/train/*\")])\n",
    "df = pd.DataFrame({\"name\": data.keys(), \"value\": data.values()})\n",
    "\n",
    "df.sort_values(by=\"value\").plot(kind=\"bar\", x=\"name\", xlabel=\"dataset\", y=\"value\", ylabel=\"count\", title=\"Train Dataset\")\n",
    "plt.show()"
   ]
  },
  {
   "cell_type": "code",
   "execution_count": 70,
   "id": "bbf83f15",
   "metadata": {},
   "outputs": [
    {
     "data": {
      "image/png": "[encoded data removed]",
      "text/plain": [
       "<Figure size 640x480 with 1 Axes>"
      ]
     },
     "metadata": {},
     "output_type": "display_data"
    }
   ],
   "source": [
    "data = Counter([os.path.splitext(os.path.basename(item))[0].split(\"_\")[0] for item in glob(f\"{dir_output}/images/val/*\")])\n",
    "df = pd.DataFrame({\"name\": data.keys(), \"value\": data.values()})\n",
    "\n",
    "df.sort_values(by=\"value\").plot(kind=\"bar\", x=\"name\", xlabel=\"dataset\", y=\"value\", ylabel=\"count\", title=\"Validation Dataset\")\n",
    "plt.show()"
   ]
  },
  {
   "cell_type": "code",
   "execution_count": 71,
   "id": "e86aac41",
   "metadata": {},
   "outputs": [
    {
     "data": {
      "image/png": "[encoded data removed]",
      "text/plain": [
       "<Figure size 640x480 with 1 Axes>"
      ]
     },
     "metadata": {},
     "output_type": "display_data"
    }
   ],
   "source": [
    "data = Counter([os.path.splitext(os.path.basename(item))[0].split(\"_\")[0] for item in glob(f\"{dir_output}/images/test/*\")])\n",
    "df = pd.DataFrame({\"name\": data.keys(), \"value\": data.values()})\n",
    "\n",
    "df.sort_values(by=\"value\").plot(kind=\"bar\", x=\"name\", xlabel=\"dataset\", y=\"value\", ylabel=\"count\", title=\"Test Dataset\")\n",
    "plt.show()"
   ]
  }
 ],
 "metadata": {
  "kernelspec": {
   "display_name": ".venv",
   "language": "python",
   "name": "python3"
  },
  "language_info": {
   "codemirror_mode": {
    "name": "ipython",
    "version": 3
   },
   "file_extension": ".py",
   "mimetype": "text/x-python",
   "name": "python",
   "nbconvert_exporter": "python",
   "pygments_lexer": "ipython3",
   "version": "3.10.11"
  }
 },
 "nbformat": 4,
 "nbformat_minor": 5
}
