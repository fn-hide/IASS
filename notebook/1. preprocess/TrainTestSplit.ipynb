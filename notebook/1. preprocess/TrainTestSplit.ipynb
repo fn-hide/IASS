{
 "cells": [
  {
   "cell_type": "markdown",
   "id": "1a33d70a",
   "metadata": {},
   "source": [
    "# Train Test Split\n",
    "Split train dataset into train, val, and test. Export a dataset from CVAT can't split automatically from tasks. So, we need to split manually if we don't specify the subsets. This notebook do that."
   ]
  },
  {
   "cell_type": "code",
   "execution_count": 82,
   "id": "62b88a95",
   "metadata": {},
   "outputs": [],
   "source": [
    "import os\n",
    "import io\n",
    "import yaml\n",
    "import random\n",
    "import shutil\n",
    "from tqdm import tqdm"
   ]
  },
  {
   "cell_type": "markdown",
   "id": "bade6a33",
   "metadata": {},
   "source": [
    "Specify train, val, and test composition"
   ]
  },
  {
   "cell_type": "code",
   "execution_count": 83,
   "id": "ec198816",
   "metadata": {},
   "outputs": [],
   "source": [
    "n_train = 70\n",
    "n_val = 20\n",
    "n_test = 10\n",
    "\n",
    "if sum([n_train, n_val, n_test]) != 100:\n",
    "    raise ValueError(\"Total composition must be 100!\")"
   ]
  },
  {
   "cell_type": "code",
   "execution_count": 84,
   "id": "09f47ab0",
   "metadata": {},
   "outputs": [],
   "source": [
    "dir_dataset = \"C:/Users/eats/projects/IASS/asset/annotated/project_iass_dataset_2025_05_19_04_35_48_ultralytics yolo detection 1.0\"\n",
    "src_name = \"data-original\"\n",
    "dst_name = \"data\"\n",
    "dir_output = f\"{dir_dataset}/{dst_name}\"\n",
    "dir_source = f\"{dir_dataset}/{src_name}\"\n",
    "\n",
    "if not os.path.exists(dir_source):\n",
    "    os.rename(f\"{dir_dataset}/data\", dir_source)\n",
    "\n",
    "os.makedirs(dir_output, exist_ok=True)\n",
    "os.makedirs(f\"{dir_output}/images/train\", exist_ok=True)\n",
    "os.makedirs(f\"{dir_output}/images/val\", exist_ok=True)\n",
    "os.makedirs(f\"{dir_output}/images/test\", exist_ok=True)\n",
    "os.makedirs(f\"{dir_output}/labels/train\", exist_ok=True)\n",
    "os.makedirs(f\"{dir_output}/labels/val\", exist_ok=True)\n",
    "os.makedirs(f\"{dir_output}/labels/test\", exist_ok=True)\n",
    "\n",
    "with open(f\"{dir_dataset}/{src_name}/data.yaml\", \"r\") as file:\n",
    "    data_yaml = yaml.safe_load(file)\n",
    "\n",
    "with open(f\"{dir_dataset}/{src_name}/train.txt\", \"r\") as file:\n",
    "    paths_train = file.read()\n",
    "    paths_train = [item for item in paths_train.split(\"\\n\") if item]\n"
   ]
  },
  {
   "cell_type": "code",
   "execution_count": 85,
   "id": "b3ed80f4",
   "metadata": {},
   "outputs": [
    {
     "data": {
      "text/plain": [
       "{'names': {0: 'bicycle',\n",
       "  1: 'motorbike',\n",
       "  2: 'car',\n",
       "  3: 'truck',\n",
       "  4: 'bus',\n",
       "  5: 'person'},\n",
       " 'path': '.',\n",
       " 'train': 'train.txt'}"
      ]
     },
     "execution_count": 85,
     "metadata": {},
     "output_type": "execute_result"
    }
   ],
   "source": [
    "data_yaml"
   ]
  },
  {
   "cell_type": "code",
   "execution_count": 86,
   "id": "a1d71173",
   "metadata": {},
   "outputs": [
    {
     "data": {
      "text/plain": [
       "'data/images/train/delta_0.jpg'"
      ]
     },
     "execution_count": 86,
     "metadata": {},
     "output_type": "execute_result"
    }
   ],
   "source": [
    "paths_train[0]"
   ]
  },
  {
   "cell_type": "markdown",
   "id": "4ff9c56a",
   "metadata": {},
   "source": [
    "Function to split dataset into train, val, and test"
   ]
  },
  {
   "cell_type": "code",
   "execution_count": 87,
   "id": "1c7aa6a2",
   "metadata": {},
   "outputs": [],
   "source": [
    "def split_dataset(data, train_ratio=0.7, val_ratio=0.2, test_ratio=0.1, seed=None):\n",
    "    if not abs(train_ratio + val_ratio + test_ratio - 1.0) < 1e-6:\n",
    "        raise ValueError(\"Ratios must sum to 1.0\")\n",
    "    \n",
    "    if seed is not None:\n",
    "        random.seed(seed)\n",
    "    \n",
    "    data = data.copy()\n",
    "    random.shuffle(data)\n",
    "\n",
    "    total = len(data)\n",
    "    train_end = int(train_ratio * total)\n",
    "    val_end = train_end + int(val_ratio * total)\n",
    "\n",
    "    train = data[:train_end]\n",
    "    val = data[train_end:val_end]\n",
    "    test = data[val_end:]\n",
    "\n",
    "    return train, val, test\n"
   ]
  },
  {
   "cell_type": "code",
   "execution_count": 88,
   "id": "924d3352",
   "metadata": {},
   "outputs": [
    {
     "data": {
      "text/plain": [
       "(3185, 910, 455)"
      ]
     },
     "execution_count": 88,
     "metadata": {},
     "output_type": "execute_result"
    }
   ],
   "source": [
    "split_train, split_val, split_test = split_dataset(paths_train)\n",
    "\n",
    "len(split_train), len(split_val), len(split_test)"
   ]
  },
  {
   "cell_type": "code",
   "execution_count": 89,
   "id": "cd525a73",
   "metadata": {},
   "outputs": [
    {
     "data": {
      "text/plain": [
       "('data/images/train/delta_2476.jpg',\n",
       " 'data/images/train/epsilon_190.jpg',\n",
       " 'data/images/train/delta_944.jpg')"
      ]
     },
     "execution_count": 89,
     "metadata": {},
     "output_type": "execute_result"
    }
   ],
   "source": [
    "split_train[0], split_val[0], split_test[0]"
   ]
  },
  {
   "cell_type": "code",
   "execution_count": 90,
   "id": "8e9ca504",
   "metadata": {},
   "outputs": [
    {
     "name": "stderr",
     "output_type": "stream",
     "text": [
      "Split Images [train]: 100%|██████████| 3185/3185 [00:05<00:00, 536.68it/s]\n",
      "Split Images [val]: 100%|██████████| 910/910 [00:01<00:00, 631.48it/s]\n",
      "Split Images [test]: 100%|██████████| 455/455 [00:00<00:00, 672.45it/s]\n"
     ]
    }
   ],
   "source": [
    "dataset = {\n",
    "    \"train\": split_train,\n",
    "    \"val\": split_val,\n",
    "    \"test\": split_test,\n",
    "}\n",
    "\n",
    "# copy the split data to output directory\n",
    "for name, list_path in dataset.items():\n",
    "    for path in tqdm(list_path, desc=f\"Split Images [{name}]\"):\n",
    "        # rename \"data\" (default from yaml) directory to \"src_name\" directory\n",
    "        path = path.replace(f\"data/\", f\"{src_name}/\")\n",
    "        \n",
    "        # create source and destination of images path\n",
    "        path_src_img = f\"{dir_dataset}/{path}\"\n",
    "        path_dst_img = path_src_img.replace(f\"/{src_name}/\", f\"/{dst_name}/\").replace(\"/train/\", f\"/{name}/\")\n",
    "        \n",
    "        # crete source and destination of labels path\n",
    "        path_src_label = path_src_img.replace(\"/images/\", \"/labels/\").replace(\".jpg\", \".txt\")\n",
    "        path_dst_label = path_dst_img.replace(\"/images/\", \"/labels/\").replace(\".jpg\", \".txt\")\n",
    "        \n",
    "        # copy files\n",
    "        shutil.copyfile(path_src_img, path_dst_img)\n",
    "        if os.path.exists(path_src_label):\n",
    "            shutil.copyfile(path_src_label, path_dst_label)\n",
    "\n",
    "# create txt file related to the split data\n",
    "name = \"train\"\n",
    "with open(f\"{dir_output}/{name}.txt\", \"w\") as file:\n",
    "    file.write(\"\\n\".join([item.replace(\"train\", name) for item in split_train]))\n",
    "\n",
    "name = \"val\"\n",
    "with open(f\"{dir_output}/{name}.txt\", \"w\") as file:\n",
    "    file.write(\"\\n\".join([item.replace(\"train\", name) for item in split_val]))\n",
    "\n",
    "name = \"test\"\n",
    "with open(f\"{dir_output}/{name}.txt\", \"w\") as file:\n",
    "    file.write(\"\\n\".join([item.replace(\"train\", name) for item in split_test]))\n",
    "\n",
    "# create yaml file related to the split date\n",
    "data_yaml[\"path\"] = \"data\"\n",
    "data_yaml[\"val\"] = \"val.txt\"\n",
    "data_yaml[\"test\"] = \"test.txt\"\n",
    "with io.open(f\"{dir_output}/data.yaml\", 'w', encoding='utf8') as file:\n",
    "    yaml.dump(data_yaml, file, default_flow_style=False, allow_unicode=True)"
   ]
  },
  {
   "cell_type": "code",
   "execution_count": 91,
   "id": "154f0758",
   "metadata": {},
   "outputs": [
    {
     "data": {
      "text/plain": [
       "'data-original/images/train/delta_1775.jpg'"
      ]
     },
     "execution_count": 91,
     "metadata": {},
     "output_type": "execute_result"
    }
   ],
   "source": [
    "path"
   ]
  },
  {
   "cell_type": "code",
   "execution_count": 92,
   "id": "c2963b06",
   "metadata": {},
   "outputs": [
    {
     "data": {
      "text/plain": [
       "'C:/Users/eats/projects/IASS/asset/annotated/project_iass_dataset_2025_05_19_04_35_48_ultralytics yolo detection 1.0/data-original/images/train/delta_1775.jpg'"
      ]
     },
     "execution_count": 92,
     "metadata": {},
     "output_type": "execute_result"
    }
   ],
   "source": [
    "path_src_img"
   ]
  },
  {
   "cell_type": "code",
   "execution_count": 93,
   "id": "46916715",
   "metadata": {},
   "outputs": [
    {
     "data": {
      "text/plain": [
       "'C:/Users/eats/projects/IASS/asset/annotated/project_iass_dataset_2025_05_19_04_35_48_ultralytics yolo detection 1.0/data/images/test/delta_1775.jpg'"
      ]
     },
     "execution_count": 93,
     "metadata": {},
     "output_type": "execute_result"
    }
   ],
   "source": [
    "path_dst_img"
   ]
  },
  {
   "cell_type": "code",
   "execution_count": 94,
   "id": "7d72d5c2",
   "metadata": {},
   "outputs": [
    {
     "data": {
      "text/plain": [
       "{'names': {0: 'bicycle',\n",
       "  1: 'motorbike',\n",
       "  2: 'car',\n",
       "  3: 'truck',\n",
       "  4: 'bus',\n",
       "  5: 'person'},\n",
       " 'path': 'data',\n",
       " 'train': 'train.txt',\n",
       " 'val': 'val.txt',\n",
       " 'test': 'test.txt'}"
      ]
     },
     "execution_count": 94,
     "metadata": {},
     "output_type": "execute_result"
    }
   ],
   "source": [
    "data_yaml"
   ]
  },
  {
   "cell_type": "code",
   "execution_count": null,
   "id": "7698dad7",
   "metadata": {},
   "outputs": [],
   "source": []
  }
 ],
 "metadata": {
  "kernelspec": {
   "display_name": ".venv",
   "language": "python",
   "name": "python3"
  },
  "language_info": {
   "codemirror_mode": {
    "name": "ipython",
    "version": 3
   },
   "file_extension": ".py",
   "mimetype": "text/x-python",
   "name": "python",
   "nbconvert_exporter": "python",
   "pygments_lexer": "ipython3",
   "version": "3.10.11"
  }
 },
 "nbformat": 4,
 "nbformat_minor": 5
}
